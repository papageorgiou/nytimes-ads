{
 "cells": [
  {
   "cell_type": "markdown",
   "metadata": {},
   "source": [
    "### About"
   ]
  },
  {
   "cell_type": "raw",
   "metadata": {},
   "source": [
    "The dataset is part of a sequence of files that include daily click through to online ads data, based on user character tics as recorded on the New York Times web site in May of 2012. The datasets are available on the “Doing data science” book  github repo https://github.com/oreillymedia/doing_data_science, in this analysis only the first day of available data is considered. It contains over 458 thousand observations including 5 variables: \n",
    "•\tAge of User – numerical variable\n",
    "•\tGender – binary variable\n",
    "•\tSigned_In – binary variable representing if the users was logged in or not\n",
    "•\tImpressions – the number of ad impressions during the session\n",
    "•\tClicks -  the number of click-throughs to one or more ads on the website\n",
    "It is generally speaking a simple low dimensional dataset which however can be used to conduct a basic analysis of the user behaviour on the website with relation to user interaction with the ad content on the site. \n"
   ]
  },
  {
   "cell_type": "markdown",
   "metadata": {
    "collapsed": true
   },
   "source": [
    "### 1. Configuration of the environment"
   ]
  },
  {
   "cell_type": "markdown",
   "metadata": {
    "collapsed": false
   },
   "source": [
    "list of various authentification attributes\n",
    "\n",
    "auth_url : https://identity.open.softlayer.com\n",
    "project : object_storage_91969bbb\n",
    "project_id : e1a709ad10c7403b904ae3fce7380670\n",
    "region : dallas\n",
    "user_id : 24685c90698c4a20b60c164a97acfec7\n",
    "domain_id : 62a2c69643d249758de71492cd05a5f1\n",
    "domain_name : 815561\n",
    "username : user_23bdd4594e70bec4cd7dd7bb1ed172da6979e78d\n",
    "password : Tk3[U{h.#o{yM840\n",
    "filename : nyt1.csv\n",
    "container : notebooks\n",
    "tenantId : se5a-8f37553c9ef3aa-e65d03030f05\n"
   ]
  },
  {
   "cell_type": "code",
   "execution_count": 286,
   "metadata": {
    "collapsed": true
   },
   "outputs": [],
   "source": [
    "# credentials dictionary for the data source \n",
    "\n",
    "credentials = {}\n",
    "credentials['name'] = 'ClickThroughs'\n",
    "credentials['auth_url'] = 'https://identity.open.softlayer.com'\n",
    "credentials['project_id'] = 'e1a709ad10c7403b904ae3fce7380670'\n",
    "credentials['region'] = 'dallas'\n",
    "credentials['user_id'] = '24685c90698c4a20b60c164a97acfec7'\n",
    "credentials['password'] = 'Tk3[U{h.#o{yM840'"
   ]
  },
  {
   "cell_type": "code",
   "execution_count": 287,
   "metadata": {
    "collapsed": true
   },
   "outputs": [],
   "source": [
    "# defining the configuration function\n",
    "\n",
    "def set_hadoop_config(credentials):\n",
    "    prefix = \"fs.swift.service.\" + credentials['name']\n",
    "    hconf = sc._jsc.hadoopConfiguration()\n",
    "    hconf.set(prefix + \".auth.url\", credentials['auth_url']+'/v2.0/tokens')\n",
    "    hconf.set(prefix + \".auth.endpoint.prefix\", \"endpoints\")\n",
    "    hconf.set(prefix + \".tenant\", credentials['project_id'])\n",
    "    hconf.set(prefix + \".username\", credentials['user_id'])\n",
    "    hconf.set(prefix + \".password\", credentials['password'])\n",
    "    hconf.setInt(prefix + \".http.port\", 8080)\n",
    "    hconf.set(prefix + \".region\", credentials['region'])\n",
    "    hconf.setBoolean(prefix + \".public\", True)"
   ]
  },
  {
   "cell_type": "code",
   "execution_count": 288,
   "metadata": {
    "collapsed": false
   },
   "outputs": [],
   "source": [
    "# running the function to enable connection to the data source\n",
    "\n",
    "set_hadoop_config(credentials)"
   ]
  },
  {
   "cell_type": "markdown",
   "metadata": {},
   "source": [
    "### 2. Import dataset and libraries"
   ]
  },
  {
   "cell_type": "code",
   "execution_count": 289,
   "metadata": {
    "collapsed": true
   },
   "outputs": [],
   "source": [
    "# importing required SQL content library \n",
    "# Main entry point for Spark SQL functionality.\n",
    "\n",
    "from pyspark.sql import SQLContext"
   ]
  },
  {
   "cell_type": "code",
   "execution_count": 290,
   "metadata": {
    "collapsed": true
   },
   "outputs": [],
   "source": [
    "# A SQLContext is used create DataFrames\n",
    "\n",
    "sqlContext = SQLContext(sc)"
   ]
  },
  {
   "cell_type": "code",
   "execution_count": 291,
   "metadata": {
    "collapsed": true
   },
   "outputs": [],
   "source": [
    "# import the file with the first day of click data, format is now in RDD\n",
    "clicks = sc.textFile(\"swift://notebooks.ClickThroughs/nyt1.csv\")"
   ]
  },
  {
   "cell_type": "code",
   "execution_count": 292,
   "metadata": {
    "collapsed": false
   },
   "outputs": [
    {
     "data": {
      "text/plain": [
       "458442"
      ]
     },
     "execution_count": 292,
     "metadata": {},
     "output_type": "execute_result"
    }
   ],
   "source": [
    "# sanity check, is the number of lines (obervations) as expected ?\n",
    "clicks.count()"
   ]
  },
  {
   "cell_type": "code",
   "execution_count": 293,
   "metadata": {
    "collapsed": true
   },
   "outputs": [],
   "source": [
    "# importing Row to enable transformation to DataFrame\n",
    "\n",
    "from pyspark.sql import Row"
   ]
  },
  {
   "cell_type": "markdown",
   "metadata": {},
   "source": [
    "### 3. Initial dataset transformations"
   ]
  },
  {
   "cell_type": "code",
   "execution_count": 294,
   "metadata": {
    "collapsed": true
   },
   "outputs": [],
   "source": [
    "# use of map function to conver every line into a sequence of component elements split by comma\n",
    "\n",
    "clicks2 = clicks.map(lambda l: l.split(\",\"))"
   ]
  },
  {
   "cell_type": "code",
   "execution_count": 295,
   "metadata": {
    "collapsed": false
   },
   "outputs": [
    {
     "data": {
      "text/plain": [
       "[u'\"Age\",\"Gender\",\"Impressions\",\"Clicks\",\"Signed_In\"', u'36,0,3,0,1']"
      ]
     },
     "execution_count": 295,
     "metadata": {},
     "output_type": "execute_result"
    }
   ],
   "source": [
    "# the first two csv rows from the orginal file where the lines are not seperated\n",
    "clicks.take(2)"
   ]
  },
  {
   "cell_type": "code",
   "execution_count": 296,
   "metadata": {
    "collapsed": false
   },
   "outputs": [
    {
     "data": {
      "text/plain": [
       "[[u'\"Age\"', u'\"Gender\"', u'\"Impressions\"', u'\"Clicks\"', u'\"Signed_In\"'],\n",
       " [u'36', u'0', u'3', u'0', u'1']]"
      ]
     },
     "execution_count": 296,
     "metadata": {},
     "output_type": "execute_result"
    }
   ],
   "source": [
    "# the first two rows after the map transformation with the lines now separated in tuple form\n",
    "clicks2.take(2)"
   ]
  },
  {
   "cell_type": "code",
   "execution_count": 297,
   "metadata": {
    "collapsed": true
   },
   "outputs": [],
   "source": [
    "# the first line corresponds to the header\n",
    "\n",
    "header = clicks2.first()\n",
    "\n",
    "# data without header by using a filter\n",
    "clicks_no_header = clicks2.filter(lambda line:line != header)"
   ]
  },
  {
   "cell_type": "code",
   "execution_count": 298,
   "metadata": {
    "collapsed": false
   },
   "outputs": [
    {
     "data": {
      "text/plain": [
       "[u'36', u'0', u'3', u'0', u'1']"
      ]
     },
     "execution_count": 298,
     "metadata": {},
     "output_type": "execute_result"
    }
   ],
   "source": [
    "# checking that the header has been removed\n",
    "clicks_no_header.first()"
   ]
  },
  {
   "cell_type": "markdown",
   "metadata": {},
   "source": [
    "### 4. From RDD to Spark DataFrame"
   ]
  },
  {
   "cell_type": "code",
   "execution_count": 299,
   "metadata": {
    "collapsed": true
   },
   "outputs": [],
   "source": [
    "# mapping each line to a row and then all rows to a dataframe\n",
    "df = clicks_no_header.map(lambda line: Row(Age = line[0], Gender = line[1], \n",
    "                              Impressions=line[2], Clicks=line[3], Signed_In=line[4])).toDF()"
   ]
  },
  {
   "cell_type": "code",
   "execution_count": 300,
   "metadata": {
    "collapsed": true
   },
   "outputs": [],
   "source": [
    "# this is an attempt to put the ages in to brackets, however the implementation with the below syntax cannot be\n",
    "# applied rowwise and therefore the result is not the expected. \n",
    "\n",
    "def AgetoBuckets(age):\n",
    "    if age in range(0,26):\n",
    "        return str('0-25')\n",
    "    if age in range(26,41):\n",
    "        return str('26-40')\n",
    "    else:\n",
    "        return str('40+')\n",
    "    \n",
    "df_age_brackets = clicks_no_header.map(lambda line: Row(Age = AgetoBuckets(line[0]), Gender = line[1],\n",
    "                              Impressions=line[2], Clicks=line[3], Signed_In=line[4])).toDF()"
   ]
  },
  {
   "cell_type": "code",
   "execution_count": 301,
   "metadata": {
    "collapsed": false
   },
   "outputs": [
    {
     "data": {
      "text/plain": [
       "Row(Age=u'36', Clicks=u'0', Gender=u'0', Impressions=u'3', Signed_In=u'1')"
      ]
     },
     "execution_count": 301,
     "metadata": {},
     "output_type": "execute_result"
    }
   ],
   "source": [
    "# insepcting the first row after the transformation\n",
    "\n",
    "df.first()"
   ]
  },
  {
   "cell_type": "code",
   "execution_count": 302,
   "metadata": {
    "collapsed": false
   },
   "outputs": [
    {
     "data": {
      "text/plain": [
       "[Row(Age=u'36', Clicks=u'0', Gender=u'0', Impressions=u'3', Signed_In=u'1'),\n",
       " Row(Age=u'73', Clicks=u'0', Gender=u'1', Impressions=u'3', Signed_In=u'1'),\n",
       " Row(Age=u'30', Clicks=u'0', Gender=u'0', Impressions=u'3', Signed_In=u'1'),\n",
       " Row(Age=u'49', Clicks=u'0', Gender=u'1', Impressions=u'3', Signed_In=u'1'),\n",
       " Row(Age=u'47', Clicks=u'0', Gender=u'1', Impressions=u'11', Signed_In=u'1')]"
      ]
     },
     "execution_count": 302,
     "metadata": {},
     "output_type": "execute_result"
    }
   ],
   "source": [
    "# 5 head rows \n",
    "df.head(5)"
   ]
  },
  {
   "cell_type": "code",
   "execution_count": 303,
   "metadata": {
    "collapsed": false
   },
   "outputs": [
    {
     "data": {
      "text/plain": [
       "['Age', 'Clicks', 'Gender', 'Impressions', 'Signed_In']"
      ]
     },
     "execution_count": 303,
     "metadata": {},
     "output_type": "execute_result"
    }
   ],
   "source": [
    "# the names of the columns of the DF\n",
    "\n",
    "df.columns"
   ]
  },
  {
   "cell_type": "code",
   "execution_count": 304,
   "metadata": {
    "collapsed": false
   },
   "outputs": [
    {
     "name": "stdout",
     "output_type": "stream",
     "text": [
      "+---+------+------+-----------+---------+\n",
      "|Age|Clicks|Gender|Impressions|Signed_In|\n",
      "+---+------+------+-----------+---------+\n",
      "| 36|     0|     0|          3|        1|\n",
      "| 73|     0|     1|          3|        1|\n",
      "| 30|     0|     0|          3|        1|\n",
      "+---+------+------+-----------+---------+\n",
      "\n"
     ]
    }
   ],
   "source": [
    "# the show method presents data in a more readble, tabular format. \n",
    "\n",
    "df.show(3)"
   ]
  },
  {
   "cell_type": "markdown",
   "metadata": {},
   "source": [
    "### 5. Exploratory Analysis and experimentation with Spark DFs\n"
   ]
  },
  {
   "cell_type": "code",
   "execution_count": 305,
   "metadata": {
    "collapsed": false
   },
   "outputs": [
    {
     "name": "stdout",
     "output_type": "stream",
     "text": [
      "root\n",
      " |-- Age: string (nullable = true)\n",
      " |-- Clicks: string (nullable = true)\n",
      " |-- Gender: string (nullable = true)\n",
      " |-- Impressions: string (nullable = true)\n",
      " |-- Signed_In: string (nullable = true)\n",
      "\n"
     ]
    }
   ],
   "source": [
    "\n",
    "# Check the schema of the DF \n",
    "df.printSchema()  \n",
    "\n",
    "# all columns are of type string "
   ]
  },
  {
   "cell_type": "code",
   "execution_count": 306,
   "metadata": {
    "collapsed": false
   },
   "outputs": [
    {
     "name": "stdout",
     "output_type": "stream",
     "text": [
      "+---+------+------+-----------+---------+\n",
      "|Age|Clicks|Gender|Impressions|Signed_In|\n",
      "+---+------+------+-----------+---------+\n",
      "| 36|     0|     0|          3|        1|\n",
      "| 30|     0|     0|          3|        1|\n",
      "| 47|     1|     0|         11|        1|\n",
      "|  0|     1|     0|          7|        0|\n",
      "| 46|     0|     0|          5|        1|\n",
      "+---+------+------+-----------+---------+\n",
      "\n"
     ]
    }
   ],
   "source": [
    "# filter out males and show first 5 observations\n",
    "\n",
    "df_filtered = df[df.Gender == 0]\n",
    "df_filtered.show(5)\n"
   ]
  },
  {
   "cell_type": "code",
   "execution_count": 307,
   "metadata": {
    "collapsed": false
   },
   "outputs": [
    {
     "name": "stdout",
     "output_type": "stream",
     "text": [
      "+---+------+\n",
      "|Age|Gender|\n",
      "+---+------+\n",
      "| 36|     0|\n",
      "| 73|     1|\n",
      "| 30|     0|\n",
      "| 49|     1|\n",
      "| 47|     1|\n",
      "| 47|     0|\n",
      "|  0|     0|\n",
      "| 46|     0|\n",
      "| 16|     0|\n",
      "| 52|     0|\n",
      "+---+------+\n",
      "\n"
     ]
    }
   ],
   "source": [
    "# selecting a subset of the columns \n",
    "df.select('Age','Gender').show(10)\n"
   ]
  },
  {
   "cell_type": "code",
   "execution_count": 308,
   "metadata": {
    "collapsed": false
   },
   "outputs": [
    {
     "name": "stdout",
     "output_type": "stream",
     "text": [
      "+------+------+\n",
      "|Gender| count|\n",
      "+------+------+\n",
      "|     0|290176|\n",
      "|     1|168265|\n",
      "+------+------+\n",
      "\n"
     ]
    }
   ],
   "source": [
    "# ask for the distribution of gender in the dataset- it turns out the majoriry (almost double in number) are males\n",
    "\n",
    "df.groupBy(\"Gender\").count().show()"
   ]
  },
  {
   "cell_type": "code",
   "execution_count": 309,
   "metadata": {
    "collapsed": false
   },
   "outputs": [
    {
     "name": "stdout",
     "output_type": "stream",
     "text": [
      "+---------+------+\n",
      "|Signed_In| count|\n",
      "+---------+------+\n",
      "|        0|137106|\n",
      "|        1|321335|\n",
      "+---------+------+\n",
      "\n"
     ]
    }
   ],
   "source": [
    "# Most of the users are logged in\n",
    "\n",
    "df.groupBy(\"Signed_In\").count().show()"
   ]
  },
  {
   "cell_type": "code",
   "execution_count": 310,
   "metadata": {
    "collapsed": false
   },
   "outputs": [
    {
     "name": "stdout",
     "output_type": "stream",
     "text": [
      "+-------+------------------+-------------------+-------------------+------------------+-------------------+\n",
      "|summary|               Age|             Gender|             Clicks|       Impressions|          Signed_In|\n",
      "+-------+------------------+-------------------+-------------------+------------------+-------------------+\n",
      "|  count|            458441|             458441|             458441|            458441|             458441|\n",
      "|   mean| 29.48255064446679|0.36703741593792877|0.09259424876919822|  5.00731609956352| 0.7009298906511416|\n",
      "| stddev|23.607008035813386|0.48199683737503574|0.30997286137693547|2.2393464381293193|0.45785060777825803|\n",
      "|    min|                 0|                  0|                  0|                 0|                  0|\n",
      "|    max|                99|                  1|                  4|                 9|                  1|\n",
      "+-------+------------------+-------------------+-------------------+------------------+-------------------+\n",
      "\n"
     ]
    }
   ],
   "source": [
    "# Looking at summary descriptive statistics across all variables \n",
    "\n",
    "df.describe(['Age', 'Gender','Clicks','Impressions', 'Signed_In']).show()\n"
   ]
  },
  {
   "cell_type": "code",
   "execution_count": 311,
   "metadata": {
    "collapsed": false
   },
   "outputs": [],
   "source": [
    "# re-creating the dataframe in order to change the data types to integers that will enable \n",
    "# the use of functions like correlation\n",
    "\n",
    "df = clicks_no_header.map(lambda line: Row(Age = int(line[0]), Gender = int(line[1]), \n",
    "                              Impressions=int(line[2]), Clicks=int(line[3]), Signed_In=line[4])).toDF()                        \n"
   ]
  },
  {
   "cell_type": "code",
   "execution_count": 312,
   "metadata": {
    "collapsed": false
   },
   "outputs": [
    {
     "name": "stdout",
     "output_type": "stream",
     "text": [
      "root\n",
      " |-- Age: long (nullable = true)\n",
      " |-- Clicks: long (nullable = true)\n",
      " |-- Gender: long (nullable = true)\n",
      " |-- Impressions: long (nullable = true)\n",
      " |-- Signed_In: string (nullable = true)\n",
      "\n"
     ]
    }
   ],
   "source": [
    "df.printSchema()  # to check if the type change has taken place \n"
   ]
  },
  {
   "cell_type": "code",
   "execution_count": 313,
   "metadata": {
    "collapsed": false
   },
   "outputs": [
    {
     "data": {
      "text/plain": [
       "0.13515601142562947"
      ]
     },
     "execution_count": 313,
     "metadata": {},
     "output_type": "execute_result"
    }
   ],
   "source": [
    "# Calculate correlation index between impressions and clicks\n",
    "\n",
    "df.corr(\"Impressions\", \"Clicks\", method=None)   "
   ]
  },
  {
   "cell_type": "code",
   "execution_count": 314,
   "metadata": {
    "collapsed": false
   },
   "outputs": [
    {
     "data": {
      "text/plain": [
       "[Row(Gender=0, AVG(Age)=22.90613282973092),\n",
       " Row(Gender=1, AVG(Age)=40.823700710189286)]"
      ]
     },
     "execution_count": 314,
     "metadata": {},
     "output_type": "execute_result"
    }
   ],
   "source": [
    "# group by and apply function to see the average age by gender\n",
    "\n",
    "df.groupBy(\"Gender\").avg('Age').collect()     "
   ]
  },
  {
   "cell_type": "code",
   "execution_count": 315,
   "metadata": {
    "collapsed": false
   },
   "outputs": [
    {
     "data": {
      "text/plain": [
       "[Row(Signed_In=u'0', AVG(Clicks)=0.14207985062652254),\n",
       " Row(Signed_In=u'1', AVG(Clicks)=0.07147991970996001)]"
      ]
     },
     "execution_count": 315,
     "metadata": {},
     "output_type": "execute_result"
    }
   ],
   "source": [
    "# the avg number of clicks based on whether users where loggin or not\n",
    "\n",
    "df.groupBy(\"Signed_In\").avg('Clicks').collect()     "
   ]
  },
  {
   "cell_type": "code",
   "execution_count": 316,
   "metadata": {
    "collapsed": false
   },
   "outputs": [
    {
     "name": "stdout",
     "output_type": "stream",
     "text": [
      "+---+-----+\n",
      "|Age|count|\n",
      "+---+-----+\n",
      "| 31| 6439|\n",
      "| 32| 6443|\n",
      "| 33| 6431|\n",
      "| 34| 3290|\n",
      "| 35| 3932|\n",
      "| 36| 7933|\n",
      "| 37| 7983|\n",
      "| 38| 7891|\n",
      "| 39| 7804|\n",
      "| 40| 7702|\n",
      "+---+-----+\n",
      "\n"
     ]
    }
   ],
   "source": [
    "# number of observations broken down by age\n",
    "\n",
    "df.groupBy('Age').count().show(10) "
   ]
  },
  {
   "cell_type": "code",
   "execution_count": 317,
   "metadata": {
    "collapsed": false
   },
   "outputs": [
    {
     "data": {
      "text/plain": [
       "[Row(Gender=0, AVG(Impressions)=5.006554642699603, SUM(Clicks)=30672),\n",
       " Row(Gender=1, AVG(Impressions)=5.0086292455353165, SUM(Clicks)=11777)]"
      ]
     },
     "execution_count": 317,
     "metadata": {},
     "output_type": "execute_result"
    }
   ],
   "source": [
    "# grouping by gender and producing the sum for clicks and mean for impressions\n",
    "\n",
    "df.groupBy('Gender').agg({'Clicks': 'sum', 'Impressions': 'mean'}).collect()"
   ]
  },
  {
   "cell_type": "code",
   "execution_count": 319,
   "metadata": {
    "collapsed": false
   },
   "outputs": [],
   "source": [
    "#df.select(\"Gender\", \"Signed_In\").groupBy(\"Gender\").count().show()\n",
    "\n",
    "#sliceddf = df[df.Age.inSet([30, 31, 32]) \n",
    "#                          & (df.Gender > 0)][['Age', 'Gender']]\n",
    "#sliceddf.show()\n"
   ]
  },
  {
   "cell_type": "markdown",
   "metadata": {},
   "source": [
    "### Plotting"
   ]
  },
  {
   "cell_type": "code",
   "execution_count": 320,
   "metadata": {
    "collapsed": true
   },
   "outputs": [],
   "source": [
    "# importing pandas library to use  its DataFrame plot method, as a wrapper to plt.plot\n",
    "\n",
    "import pandas as pd\n",
    "\n",
    "# to have figures by the matplotlib library rendered in line:\n",
    "\n",
    "%matplotlib inline"
   ]
  },
  {
   "cell_type": "code",
   "execution_count": 321,
   "metadata": {
    "collapsed": false
   },
   "outputs": [
    {
     "data": {
      "text/html": [
       "<div style=\"max-height:1000px;max-width:1500px;overflow:auto;\">\n",
       "<table border=\"1\" class=\"dataframe\">\n",
       "  <thead>\n",
       "    <tr style=\"text-align: right;\">\n",
       "      <th></th>\n",
       "      <th>Age</th>\n",
       "      <th>count</th>\n",
       "    </tr>\n",
       "  </thead>\n",
       "  <tbody>\n",
       "    <tr>\n",
       "      <th>0</th>\n",
       "      <td> 31</td>\n",
       "      <td> 6439</td>\n",
       "    </tr>\n",
       "    <tr>\n",
       "      <th>1</th>\n",
       "      <td> 32</td>\n",
       "      <td> 6443</td>\n",
       "    </tr>\n",
       "    <tr>\n",
       "      <th>2</th>\n",
       "      <td> 33</td>\n",
       "      <td> 6431</td>\n",
       "    </tr>\n",
       "    <tr>\n",
       "      <th>3</th>\n",
       "      <td> 34</td>\n",
       "      <td> 3290</td>\n",
       "    </tr>\n",
       "    <tr>\n",
       "      <th>4</th>\n",
       "      <td> 35</td>\n",
       "      <td> 3932</td>\n",
       "    </tr>\n",
       "  </tbody>\n",
       "</table>\n",
       "</div>"
      ],
      "text/plain": [
       "   Age  count\n",
       "0   31   6439\n",
       "1   32   6443\n",
       "2   33   6431\n",
       "3   34   3290\n",
       "4   35   3932"
      ]
     },
     "execution_count": 321,
     "metadata": {},
     "output_type": "execute_result"
    }
   ],
   "source": [
    "# group by age, count group size and convert to pandas DataFrame\n",
    "\n",
    "ageBreakDown = df.groupBy('Age').count().toPandas()\n",
    "\n",
    "ageBreakDown.head()"
   ]
  },
  {
   "cell_type": "code",
   "execution_count": 322,
   "metadata": {
    "collapsed": false
   },
   "outputs": [
    {
     "data": {
      "text/html": [
       "<div style=\"max-height:1000px;max-width:1500px;overflow:auto;\">\n",
       "<table border=\"1\" class=\"dataframe\">\n",
       "  <thead>\n",
       "    <tr style=\"text-align: right;\">\n",
       "      <th></th>\n",
       "      <th>Age</th>\n",
       "      <th>count</th>\n",
       "    </tr>\n",
       "  </thead>\n",
       "  <tbody>\n",
       "    <tr>\n",
       "      <th>count</th>\n",
       "      <td> 101.000000</td>\n",
       "      <td>    101.000000</td>\n",
       "    </tr>\n",
       "    <tr>\n",
       "      <th>mean</th>\n",
       "      <td>  55.980198</td>\n",
       "      <td>   4539.019802</td>\n",
       "    </tr>\n",
       "    <tr>\n",
       "      <th>std</th>\n",
       "      <td>  29.477103</td>\n",
       "      <td>  13627.802515</td>\n",
       "    </tr>\n",
       "    <tr>\n",
       "      <th>min</th>\n",
       "      <td>   0.000000</td>\n",
       "      <td>      1.000000</td>\n",
       "    </tr>\n",
       "    <tr>\n",
       "      <th>25%</th>\n",
       "      <td>  31.000000</td>\n",
       "      <td>    283.000000</td>\n",
       "    </tr>\n",
       "    <tr>\n",
       "      <th>50%</th>\n",
       "      <td>  56.000000</td>\n",
       "      <td>   2502.000000</td>\n",
       "    </tr>\n",
       "    <tr>\n",
       "      <th>75%</th>\n",
       "      <td>  81.000000</td>\n",
       "      <td>   6394.000000</td>\n",
       "    </tr>\n",
       "    <tr>\n",
       "      <th>max</th>\n",
       "      <td> 108.000000</td>\n",
       "      <td> 137106.000000</td>\n",
       "    </tr>\n",
       "  </tbody>\n",
       "</table>\n",
       "</div>"
      ],
      "text/plain": [
       "              Age          count\n",
       "count  101.000000     101.000000\n",
       "mean    55.980198    4539.019802\n",
       "std     29.477103   13627.802515\n",
       "min      0.000000       1.000000\n",
       "25%     31.000000     283.000000\n",
       "50%     56.000000    2502.000000\n",
       "75%     81.000000    6394.000000\n",
       "max    108.000000  137106.000000"
      ]
     },
     "execution_count": 322,
     "metadata": {},
     "output_type": "execute_result"
    }
   ],
   "source": [
    "ageBreakDown.describe()"
   ]
  },
  {
   "cell_type": "code",
   "execution_count": 323,
   "metadata": {
    "collapsed": false
   },
   "outputs": [
    {
     "data": {
      "text/plain": [
       "<matplotlib.axes._subplots.AxesSubplot at 0x7fdc3cb87890>"
      ]
     },
     "execution_count": 323,
     "metadata": {},
     "output_type": "execute_result"
    },
    {
     "data": {
      "image/png": "[encoded data removed]",
      "text/plain": [
       "<matplotlib.figure.Figure at 0x7fdc4d6d9850>"
      ]
     },
     "metadata": {},
     "output_type": "display_data"
    }
   ],
   "source": [
    "ageBreakDown.plot(x=\"Age\", y=\"count\")\n",
    "\n",
    "# there is an outlier  at age value zero  (also the diagonal line is somehow unexpected)"
   ]
  },
  {
   "cell_type": "code",
   "execution_count": 326,
   "metadata": {
    "collapsed": true
   },
   "outputs": [],
   "source": [
    "# Introducing a new column for the Click-Through-Rate as the ratio of Clicks to Impressions for the Ads\n",
    "\n",
    "df3 = df.withColumn('CTR', df[\"Clicks\"]/df[\"Impressions\"] )  "
   ]
  },
  {
   "cell_type": "code",
   "execution_count": 327,
   "metadata": {
    "collapsed": false
   },
   "outputs": [],
   "source": [
    "# transform into pandas and use the numpy method to calculate the mean across all variables\n",
    "\n",
    "import numpy as np\n",
    "\n",
    "pandasDF = df3.toPandas()\n",
    "pandasDF = pandasDF.groupby('Signed_In').aggregate(np.mean)"
   ]
  },
  {
   "cell_type": "code",
   "execution_count": 328,
   "metadata": {
    "collapsed": false
   },
   "outputs": [
    {
     "data": {
      "text/html": [
       "<div style=\"max-height:1000px;max-width:1500px;overflow:auto;\">\n",
       "<table border=\"1\" class=\"dataframe\">\n",
       "  <thead>\n",
       "    <tr style=\"text-align: right;\">\n",
       "      <th></th>\n",
       "      <th>Age</th>\n",
       "      <th>Clicks</th>\n",
       "      <th>Gender</th>\n",
       "      <th>Impressions</th>\n",
       "      <th>CTR</th>\n",
       "    </tr>\n",
       "    <tr>\n",
       "      <th>Signed_In</th>\n",
       "      <th></th>\n",
       "      <th></th>\n",
       "      <th></th>\n",
       "      <th></th>\n",
       "      <th></th>\n",
       "    </tr>\n",
       "  </thead>\n",
       "  <tbody>\n",
       "    <tr>\n",
       "      <th>0</th>\n",
       "      <td>  0.000000</td>\n",
       "      <td> 0.14208</td>\n",
       "      <td> 0.000000</td>\n",
       "      <td> 4.999657</td>\n",
       "      <td> 0.028355</td>\n",
       "    </tr>\n",
       "    <tr>\n",
       "      <th>1</th>\n",
       "      <td> 42.062054</td>\n",
       "      <td> 0.07148</td>\n",
       "      <td> 0.523644</td>\n",
       "      <td> 5.010584</td>\n",
       "      <td> 0.014254</td>\n",
       "    </tr>\n",
       "  </tbody>\n",
       "</table>\n",
       "</div>"
      ],
      "text/plain": [
       "                 Age   Clicks    Gender  Impressions       CTR\n",
       "Signed_In                                                     \n",
       "0           0.000000  0.14208  0.000000     4.999657  0.028355\n",
       "1          42.062054  0.07148  0.523644     5.010584  0.014254"
      ]
     },
     "execution_count": 328,
     "metadata": {},
     "output_type": "execute_result"
    }
   ],
   "source": [
    "# table with the outcome\n",
    "\n",
    "pandasDF"
   ]
  },
  {
   "cell_type": "code",
   "execution_count": 338,
   "metadata": {
    "collapsed": false
   },
   "outputs": [
    {
     "data": {
      "text/plain": [
       "<matplotlib.axes._subplots.AxesSubplot at 0x7fdc3e24b050>"
      ]
     },
     "execution_count": 338,
     "metadata": {},
     "output_type": "execute_result"
    },
    {
     "data": {
      "image/png": "[encoded data removed]",
      "text/plain": [
       "<matplotlib.figure.Figure at 0x7fdc3dfdafd0>"
      ]
     },
     "metadata": {},
     "output_type": "display_data"
    },
    {
     "data": {
      "image/png": "[encoded data removed]",
      "text/plain": [
       "<matplotlib.figure.Figure at 0x7fdc3dfdab10>"
      ]
     },
     "metadata": {},
     "output_type": "display_data"
    }
   ],
   "source": [
    "\n",
    "# plotting the differences between signedin and not, with pandas plot function \n",
    "\n",
    "pandasDF[[\"Clicks\", \"CTR\"]].plot()\n",
    "\n",
    "pandasDF[[\"Impressions\"]].plot()\n",
    "\n",
    "\n"
   ]
  }
 ],
 "metadata": {
  "kernelspec": {
   "display_name": "Python 2",
   "language": "python",
   "name": "python2"
  },
  "language_info": {
   "codemirror_mode": {
    "name": "ipython",
    "version": 2
   },
   "file_extension": ".py",
   "mimetype": "text/x-python",
   "name": "python",
   "nbconvert_exporter": "python",
   "pygments_lexer": "ipython2",
   "version": "2.7.9"
  }
 },
 "nbformat": 4,
 "nbformat_minor": 0
}